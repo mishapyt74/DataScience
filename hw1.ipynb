{
  "nbformat": 4,
  "nbformat_minor": 0,
  "metadata": {
    "colab": {
      "provenance": []
    },
    "kernelspec": {
      "name": "python3",
      "display_name": "Python 3"
    },
    "language_info": {
      "name": "python"
    }
  },
  "cells": [
    {
      "cell_type": "code",
      "execution_count": null,
      "metadata": {
        "id": "hGiXPMfZFihE"
      },
      "outputs": [],
      "source": [
        "import numpy as np\n",
        "\n",
        "vector1 = np.arange(1, 11)\n",
        "matrix1 = np.zeros((3, 3))\n",
        "matrix2 = np.random.randint(1, 11, size=(5, 5))\n",
        "matrix3 = np.random.rand(4, 4)\n",
        "vector2 = np.random.randint(1, 11, size=5)\n",
        "vector3 = np.random.randint(1, 11, size=5)\n",
        "vector4 = np.random.randint(1, 11, size=4)\n",
        "vector5 = np.random.rand(3)\n",
        "matrix4 = np.random.randint(1, 11, size=(2, 2))\n",
        "matrix5 = np.random.randint(1, 11, size=(2, 3))\n",
        "matrix6 = np.random.randint(1, 11, size=(3, 3))\n",
        "matrix7 = np.random.rand(4, 4)\n",
        "matrix8 = np.random.randint(1, 11, size=(3, 4))\n",
        "matrix9 = np.random.rand(2, 3)\n",
        "matrix10 = np.random.randint(1, 11, size=(2, 2))\n",
        "matrix11 = np.random.randint(1, 11, size=(2, 2))\n",
        "matrix12 = np.random.randint(1, 101, size=(5, 5))\n",
        "matrix13 = np.random.randint(1, 11, size=(4, 4))\n",
        "matrix14 = np.random.randint(1, 11, size=(4, 4))\n",
        "matrix15 = np.random.randint(1, 11, size=(3, 4))\n",
        "vector6 = np.random.randint(1, 51, size=4)\n",
        "\n",
        "scalar_product = np.dot(vector2, vector3)\n",
        "product = np.dot(matrix4, matrix5)\n",
        "inverse_matrix = np.linalg.inv(matrix6)\n",
        "transposed_matrix = np.transpose(matrix7)\n",
        "result_vector = np.dot(matrix8, vector4)\n",
        "result_vector2 = np.dot(matrix9, vector5)\n",
        "elementwise_product = np.multiply(matrix10, matrix11)\n",
        "product_matrix = np.dot(matrix10, matrix11)\n",
        "sum_of_elements = np.sum(matrix12)\n",
        "difference_matrix = np.subtract(matrix13, matrix14)\n",
        "row_sum_vector = np.sum(matrix12, axis=1)\n",
        "squared_matrix = np.square(matrix15)\n",
        "square_root_vector = np.sqrt(vector6)\n"
      ]
    }
  ]
}