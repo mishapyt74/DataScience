{
  "nbformat": 4,
  "nbformat_minor": 0,
  "metadata": {
    "colab": {
      "provenance": [],
      "authorship_tag": "ABX9TyP72VwRBhVEONuWzQKARUX1",
      "include_colab_link": true
    },
    "kernelspec": {
      "name": "python3",
      "display_name": "Python 3"
    },
    "language_info": {
      "name": "python"
    }
  },
  "cells": [
    {
      "cell_type": "markdown",
      "metadata": {
        "id": "view-in-github",
        "colab_type": "text"
      },
      "source": [
        "<a href=\"https://colab.research.google.com/github/mishapyt74/DataScience/blob/main/hw1.ipynb\" target=\"_parent\"><img src=\"https://colab.research.google.com/assets/colab-badge.svg\" alt=\"Open In Colab\"/></a>"
      ]
    },
    {
      "cell_type": "code",
      "execution_count": 7,
      "metadata": {
        "id": "hGiXPMfZFihE",
        "colab": {
          "base_uri": "https://localhost:8080/"
        },
        "outputId": "98d2a2fa-025a-4563-fb80-22da1a5eff70"
      },
      "outputs": [
        {
          "output_type": "execute_result",
          "data": {
            "text/plain": [
              "array([ 1,  2,  3,  4,  5,  6,  7,  8,  9, 10])"
            ]
          },
          "metadata": {},
          "execution_count": 7
        }
      ],
      "source": [
        "import numpy as np\n",
        "\n",
        "vector1 = np.arange(1, 11)\n",
        "vector1\n",
        "\n"
      ]
    },
    {
      "cell_type": "code",
      "source": [
        "matrix1 = np.zeros((3, 3))\n",
        "matrix1\n"
      ],
      "metadata": {
        "colab": {
          "base_uri": "https://localhost:8080/"
        },
        "id": "kEYFeOXEqVoY",
        "outputId": "942f10c8-f45f-4ae7-d20f-f77528d19119"
      },
      "execution_count": 8,
      "outputs": [
        {
          "output_type": "execute_result",
          "data": {
            "text/plain": [
              "array([[0., 0., 0.],\n",
              "       [0., 0., 0.],\n",
              "       [0., 0., 0.]])"
            ]
          },
          "metadata": {},
          "execution_count": 8
        }
      ]
    },
    {
      "cell_type": "code",
      "source": [
        "matrix2 = np.random.randint(1, 11, size=(5, 5))\n",
        "matrix2\n"
      ],
      "metadata": {
        "colab": {
          "base_uri": "https://localhost:8080/"
        },
        "id": "llImCt2sqbaE",
        "outputId": "d1c75212-0580-4f35-b1bb-14229be965ff"
      },
      "execution_count": 9,
      "outputs": [
        {
          "output_type": "execute_result",
          "data": {
            "text/plain": [
              "array([[ 4,  3,  3,  1,  5],\n",
              "       [ 5, 10,  9,  2,  6],\n",
              "       [ 7,  1,  3,  6,  4],\n",
              "       [ 8,  6,  7,  8,  9],\n",
              "       [ 9,  3,  7,  1,  4]])"
            ]
          },
          "metadata": {},
          "execution_count": 9
        }
      ]
    },
    {
      "cell_type": "code",
      "source": [
        "matrix2 = np.random.randint(1, 11, size=(5, 5))\n",
        "matrix2\n"
      ],
      "metadata": {
        "colab": {
          "base_uri": "https://localhost:8080/"
        },
        "id": "AECKk9IEqbdm",
        "outputId": "67262176-29d3-4bae-c446-047a028bdfa1"
      },
      "execution_count": 10,
      "outputs": [
        {
          "output_type": "execute_result",
          "data": {
            "text/plain": [
              "array([[ 3, 10, 10,  3, 10],\n",
              "       [ 5,  5,  6,  1,  1],\n",
              "       [ 2,  4,  9,  4,  4],\n",
              "       [ 8,  1,  5, 10,  5],\n",
              "       [ 5,  8,  4,  5, 10]])"
            ]
          },
          "metadata": {},
          "execution_count": 10
        }
      ]
    },
    {
      "cell_type": "code",
      "source": [
        "matrix3 = np.random.rand(4, 4)\n",
        "matrix3\n"
      ],
      "metadata": {
        "colab": {
          "base_uri": "https://localhost:8080/"
        },
        "id": "NEXy5eoGqbgV",
        "outputId": "f38f1424-e84c-4a8d-a705-51b8ca16e222"
      },
      "execution_count": 11,
      "outputs": [
        {
          "output_type": "execute_result",
          "data": {
            "text/plain": [
              "array([[0.04584498, 0.66121547, 0.04957584, 0.32026858],\n",
              "       [0.15486768, 0.5093175 , 0.2456764 , 0.81721462],\n",
              "       [0.83999067, 0.12192169, 0.79973473, 0.1744746 ],\n",
              "       [0.05586523, 0.10298771, 0.76385889, 0.3662943 ]])"
            ]
          },
          "metadata": {},
          "execution_count": 11
        }
      ]
    },
    {
      "cell_type": "code",
      "source": [
        "vector2 = np.random.randint(1, 11, size=5)\n",
        "vector2\n"
      ],
      "metadata": {
        "colab": {
          "base_uri": "https://localhost:8080/"
        },
        "id": "RIj5Jhipqbip",
        "outputId": "10100211-aa7c-47ea-a0c6-b4faf58d41c5"
      },
      "execution_count": 12,
      "outputs": [
        {
          "output_type": "execute_result",
          "data": {
            "text/plain": [
              "array([9, 6, 2, 9, 9])"
            ]
          },
          "metadata": {},
          "execution_count": 12
        }
      ]
    },
    {
      "cell_type": "code",
      "source": [
        "vector3 = np.random.randint(1, 11, size=5)\n",
        "vector3"
      ],
      "metadata": {
        "colab": {
          "base_uri": "https://localhost:8080/"
        },
        "id": "I1TVsptrqblJ",
        "outputId": "fff5836b-8325-4bb9-de4f-1560526101c5"
      },
      "execution_count": 13,
      "outputs": [
        {
          "output_type": "execute_result",
          "data": {
            "text/plain": [
              "array([5, 5, 6, 5, 7])"
            ]
          },
          "metadata": {},
          "execution_count": 13
        }
      ]
    },
    {
      "cell_type": "code",
      "source": [
        "vector4 = np.random.randint(1, 11, size=4)\n",
        "vector4"
      ],
      "metadata": {
        "colab": {
          "base_uri": "https://localhost:8080/"
        },
        "id": "8aVEkK9EqbnR",
        "outputId": "6992bf03-c509-4909-bf86-0a03120bfaa9"
      },
      "execution_count": 14,
      "outputs": [
        {
          "output_type": "execute_result",
          "data": {
            "text/plain": [
              "array([7, 5, 2, 4])"
            ]
          },
          "metadata": {},
          "execution_count": 14
        }
      ]
    },
    {
      "cell_type": "code",
      "source": [
        "vector5 = np.random.rand(3)\n",
        "vector5"
      ],
      "metadata": {
        "colab": {
          "base_uri": "https://localhost:8080/"
        },
        "id": "Kdg0sD5zqbsC",
        "outputId": "c808c9bd-ddf9-41b5-f6bf-b034e239e3e9"
      },
      "execution_count": 15,
      "outputs": [
        {
          "output_type": "execute_result",
          "data": {
            "text/plain": [
              "array([0.45752448, 0.96310931, 0.86619162])"
            ]
          },
          "metadata": {},
          "execution_count": 15
        }
      ]
    },
    {
      "cell_type": "code",
      "source": [
        "vector6 = np.random.randint(1, 51, size=4)\n",
        "vector6"
      ],
      "metadata": {
        "colab": {
          "base_uri": "https://localhost:8080/"
        },
        "id": "lFQzgFJeqbuP",
        "outputId": "82d096ca-6e7c-4c13-8cd0-d8e675d46adc"
      },
      "execution_count": 16,
      "outputs": [
        {
          "output_type": "execute_result",
          "data": {
            "text/plain": [
              "array([15, 17, 24, 21])"
            ]
          },
          "metadata": {},
          "execution_count": 16
        }
      ]
    },
    {
      "cell_type": "code",
      "source": [
        "scalar = np.dot(vector2, vector3)\n",
        "scalar\n"
      ],
      "metadata": {
        "colab": {
          "base_uri": "https://localhost:8080/"
        },
        "id": "hXVzh5HSqbwS",
        "outputId": "4632a4d3-dee3-4c7b-e34d-6522529e686a"
      },
      "execution_count": 17,
      "outputs": [
        {
          "output_type": "execute_result",
          "data": {
            "text/plain": [
              "195"
            ]
          },
          "metadata": {},
          "execution_count": 17
        }
      ]
    },
    {
      "cell_type": "code",
      "source": [
        "matrix4 = np.random.randint(1, 11, size=(2, 2))\n",
        "matrix5 = np.random.randint(1, 11, size=(2, 3))\n"
      ],
      "metadata": {
        "id": "Rkvsr8h7qby1"
      },
      "execution_count": 18,
      "outputs": []
    },
    {
      "cell_type": "code",
      "source": [
        "product = np.dot(matrix4, matrix5)\n",
        "product\n"
      ],
      "metadata": {
        "colab": {
          "base_uri": "https://localhost:8080/"
        },
        "id": "WeTu1WkJqb0x",
        "outputId": "6ac98d83-d30b-49c9-9f4c-898494cc242a"
      },
      "execution_count": 19,
      "outputs": [
        {
          "output_type": "execute_result",
          "data": {
            "text/plain": [
              "array([[118, 116,  84],\n",
              "       [ 98, 100,  72]])"
            ]
          },
          "metadata": {},
          "execution_count": 19
        }
      ]
    },
    {
      "cell_type": "code",
      "source": [
        "product = np.dot(matrix4, matrix5)\n",
        "product\n"
      ],
      "metadata": {
        "colab": {
          "base_uri": "https://localhost:8080/"
        },
        "id": "ZAJanXJfqb26",
        "outputId": "fc8782c2-9820-4b70-9c6d-b0d760242eb6"
      },
      "execution_count": 20,
      "outputs": [
        {
          "output_type": "execute_result",
          "data": {
            "text/plain": [
              "array([[118, 116,  84],\n",
              "       [ 98, 100,  72]])"
            ]
          },
          "metadata": {},
          "execution_count": 20
        }
      ]
    },
    {
      "cell_type": "code",
      "source": [
        "matrix6 = np.random.randint(1, 11, size=(3, 3))\n",
        "inverse_matrix = np.linalg.inv(matrix6)\n",
        "inverse_matrix\n"
      ],
      "metadata": {
        "colab": {
          "base_uri": "https://localhost:8080/"
        },
        "id": "XLiInEpEq-K3",
        "outputId": "9f7d6289-0ba2-4660-cceb-6fa7522e962a"
      },
      "execution_count": 21,
      "outputs": [
        {
          "output_type": "execute_result",
          "data": {
            "text/plain": [
              "array([[-1.33333333, -1.16666667,  2.16666667],\n",
              "       [ 6.        ,  4.5       , -8.5       ],\n",
              "       [-3.        , -2.        ,  4.        ]])"
            ]
          },
          "metadata": {},
          "execution_count": 21
        }
      ]
    },
    {
      "cell_type": "code",
      "source": [
        "matrix7 = np.random.rand(4, 4)\n",
        "transposed_matrix = np.transpose(matrix7)\n",
        "transposed_matrix\n"
      ],
      "metadata": {
        "colab": {
          "base_uri": "https://localhost:8080/"
        },
        "id": "nimgYpZMq-Nz",
        "outputId": "60aeded5-e0f0-4151-9a10-d1f6d3a3b70d"
      },
      "execution_count": 22,
      "outputs": [
        {
          "output_type": "execute_result",
          "data": {
            "text/plain": [
              "array([[0.10940065, 0.17684626, 0.49562902, 0.70339581],\n",
              "       [0.26523004, 0.95364027, 0.5962733 , 0.40789163],\n",
              "       [0.53077661, 0.38967367, 0.94286503, 0.28602428],\n",
              "       [0.05178408, 0.40198526, 0.45320814, 0.06828221]])"
            ]
          },
          "metadata": {},
          "execution_count": 22
        }
      ]
    },
    {
      "cell_type": "code",
      "source": [
        "matrix8 = np.random.randint(1, 11, size=(3, 4))\n",
        "result_vector = np.dot(matrix8, vector4)\n",
        "result_vector\n"
      ],
      "metadata": {
        "colab": {
          "base_uri": "https://localhost:8080/"
        },
        "id": "REWSjHD9q-QT",
        "outputId": "6d65718a-e60a-4f63-a0dd-ffa6d694cb31"
      },
      "execution_count": 23,
      "outputs": [
        {
          "output_type": "execute_result",
          "data": {
            "text/plain": [
              "array([113,  77,  57])"
            ]
          },
          "metadata": {},
          "execution_count": 23
        }
      ]
    },
    {
      "cell_type": "code",
      "source": [
        "matrix9 = np.random.rand(2, 3)\n",
        "result_vector2 = np.dot(matrix9, vector5)\n",
        "result_vector2\n"
      ],
      "metadata": {
        "colab": {
          "base_uri": "https://localhost:8080/"
        },
        "id": "Kj1pr5a9q-TJ",
        "outputId": "8b9cd6d6-894f-4f55-cdee-1acdc48c91dd"
      },
      "execution_count": 24,
      "outputs": [
        {
          "output_type": "execute_result",
          "data": {
            "text/plain": [
              "array([1.03697257, 1.18767453])"
            ]
          },
          "metadata": {},
          "execution_count": 24
        }
      ]
    },
    {
      "cell_type": "code",
      "source": [
        "matrix10 = np.random.randint(1, 11, size=(2, 2))\n",
        "matrix11 = np.random.randint(1, 11, size=(2, 2))\n",
        "elementwise_product = np.multiply(matrix10, matrix11)\n",
        "elementwise_product\n"
      ],
      "metadata": {
        "colab": {
          "base_uri": "https://localhost:8080/"
        },
        "id": "mpgwVS-Wq-Vj",
        "outputId": "05c27774-9019-44b8-83ce-5c2e1bd7396c"
      },
      "execution_count": 25,
      "outputs": [
        {
          "output_type": "execute_result",
          "data": {
            "text/plain": [
              "array([[56, 10],\n",
              "       [40,  2]])"
            ]
          },
          "metadata": {},
          "execution_count": 25
        }
      ]
    },
    {
      "cell_type": "code",
      "source": [
        "product_matrix = np.dot(matrix10, matrix11)\n",
        "product_matrix\n"
      ],
      "metadata": {
        "colab": {
          "base_uri": "https://localhost:8080/"
        },
        "id": "YUBKKOY8q-X9",
        "outputId": "ad64cf5e-5c40-4a49-a335-f8c24ace4e1b"
      },
      "execution_count": 26,
      "outputs": [
        {
          "output_type": "execute_result",
          "data": {
            "text/plain": [
              "array([[61, 82],\n",
              "       [61, 82]])"
            ]
          },
          "metadata": {},
          "execution_count": 26
        }
      ]
    },
    {
      "cell_type": "code",
      "source": [
        "matrix12 = np.random.randint(1, 101, size=(5, 5))\n",
        "sum_of_elements = np.sum(matrix12)\n",
        "sum_of_elements\n"
      ],
      "metadata": {
        "colab": {
          "base_uri": "https://localhost:8080/"
        },
        "id": "OrAmvm5Bq-ah",
        "outputId": "faa68ea7-aa62-446d-9f78-c813fff74904"
      },
      "execution_count": 27,
      "outputs": [
        {
          "output_type": "execute_result",
          "data": {
            "text/plain": [
              "1267"
            ]
          },
          "metadata": {},
          "execution_count": 27
        }
      ]
    },
    {
      "cell_type": "code",
      "source": [
        "matrix13 = np.random.randint(1, 11, size=(4, 4))\n",
        "matrix14 = np.random.randint(1, 11, size=(4, 4))\n",
        "difference_matrix = np.subtract(matrix13, matrix14)\n",
        "difference_matrix\n"
      ],
      "metadata": {
        "colab": {
          "base_uri": "https://localhost:8080/"
        },
        "id": "RLSo-Khvq-c8",
        "outputId": "0d1e9b88-e3ea-45ca-cd9c-7ac9ecc8781e"
      },
      "execution_count": 28,
      "outputs": [
        {
          "output_type": "execute_result",
          "data": {
            "text/plain": [
              "array([[ 6,  5, -6, -3],\n",
              "       [-1,  2,  1, -6],\n",
              "       [-4,  2, -1,  3],\n",
              "       [ 6,  9,  5,  6]])"
            ]
          },
          "metadata": {},
          "execution_count": 28
        }
      ]
    },
    {
      "cell_type": "code",
      "source": [
        "row_sum_vector = np.sum(matrix12, axis=1)\n",
        "row_sum_vector\n"
      ],
      "metadata": {
        "colab": {
          "base_uri": "https://localhost:8080/"
        },
        "id": "UYkqrSC2q-fH",
        "outputId": "f7e53aa7-e6bd-4836-90d2-8fc696d74314"
      },
      "execution_count": 29,
      "outputs": [
        {
          "output_type": "execute_result",
          "data": {
            "text/plain": [
              "array([231, 246, 157, 274, 359])"
            ]
          },
          "metadata": {},
          "execution_count": 29
        }
      ]
    },
    {
      "cell_type": "code",
      "source": [
        "matrix15 = np.random.randint(1, 11, size=(3, 4))\n",
        "squared_matrix = np.square(matrix15)\n",
        "squared_matrix\n"
      ],
      "metadata": {
        "colab": {
          "base_uri": "https://localhost:8080/"
        },
        "id": "3lt8U6RMrT3D",
        "outputId": "4442e838-a834-408c-96fd-12123f236a1d"
      },
      "execution_count": 30,
      "outputs": [
        {
          "output_type": "execute_result",
          "data": {
            "text/plain": [
              "array([[ 4, 36, 25,  9],\n",
              "       [36,  4, 64, 49],\n",
              "       [49, 25, 49,  1]])"
            ]
          },
          "metadata": {},
          "execution_count": 30
        }
      ]
    },
    {
      "cell_type": "code",
      "source": [
        "square_root_vector = np.sqrt(vector6)\n",
        "square_root_vector\n"
      ],
      "metadata": {
        "colab": {
          "base_uri": "https://localhost:8080/"
        },
        "id": "yH65lI4ZrT5x",
        "outputId": "6870c98d-12c5-43d1-946c-0cb3d04b1e78"
      },
      "execution_count": 31,
      "outputs": [
        {
          "output_type": "execute_result",
          "data": {
            "text/plain": [
              "array([3.87298335, 4.12310563, 4.89897949, 4.58257569])"
            ]
          },
          "metadata": {},
          "execution_count": 31
        }
      ]
    }
  ]
}